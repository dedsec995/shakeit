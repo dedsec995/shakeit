{
 "cells": [
  {
   "attachments": {},
   "cell_type": "markdown",
   "metadata": {},
   "source": [
    "Lets Test it Buddy"
   ]
  },
  {
   "cell_type": "code",
   "execution_count": 1,
   "metadata": {},
   "outputs": [],
   "source": [
    "import pandas as pd\n",
    "import numpy as np\n",
    "import matplotlib as mlt\n",
    "import os\n",
    "import cv2\n",
    "import sys\n",
    "import mediapipe as mp\n",
    "import math\n",
    "mp_drawing = mp.solutions.drawing_utils\n",
    "mp_pose = mp.solutions.pose"
   ]
  },
  {
   "attachments": {},
   "cell_type": "markdown",
   "metadata": {},
   "source": [
    "Load up the Data"
   ]
  },
  {
   "cell_type": "code",
   "execution_count": 2,
   "metadata": {},
   "outputs": [],
   "source": [
    "df = pd.read_csv('test.csv')"
   ]
  },
  {
   "attachments": {},
   "cell_type": "markdown",
   "metadata": {},
   "source": [
    "Angle_Calculator FN"
   ]
  },
  {
   "cell_type": "code",
   "execution_count": 3,
   "metadata": {},
   "outputs": [],
   "source": [
    "def calculate_angle(a,b,c):\n",
    "    a = np.array(a) # First\n",
    "    b = np.array(b) # Mid\n",
    "    c = np.array(c) # End\n",
    "    \n",
    "    radians = np.arctan2(c[1]-b[1], c[0]-b[0]) - np.arctan2(a[1]-b[1], a[0]-b[0])\n",
    "    angle = np.abs(radians*180.0/np.pi)\n",
    "    \n",
    "    if angle >180.0:\n",
    "        angle = 360-angle\n",
    "        \n",
    "    return angle"
   ]
  },
  {
   "attachments": {},
   "cell_type": "markdown",
   "metadata": {},
   "source": [
    "My isClose FN"
   ]
  },
  {
   "cell_type": "code",
   "execution_count": 4,
   "metadata": {},
   "outputs": [],
   "source": [
    "def isclose(a, b, rel_tol=1e-09, abs_tol=0.6):\n",
    "    return abs(a-b) <= max(rel_tol * max(abs(a), abs(b)), abs_tol)"
   ]
  },
  {
   "attachments": {},
   "cell_type": "markdown",
   "metadata": {},
   "source": [
    "New Match FN"
   ]
  },
  {
   "cell_type": "code",
   "execution_count": 5,
   "metadata": {},
   "outputs": [],
   "source": [
    "def letsMatchIt(posList1, posList2):\n",
    "  c4list = 0\n",
    "  firstVectyXY = []\n",
    "  secondVectyXY = []\n",
    "  for element in range(len(posList1)):\n",
    "      if c4list < 2:\n",
    "          firstVectyXY.append(posList1[element])\n",
    "          secondVectyXY.append(posList2[element])\n",
    "      if c4list < 3:\n",
    "          c4list += 1\n",
    "      else: \n",
    "          c4list = 0\n",
    "  \n",
    "\n",
    "  # firstVectyXY = firstVectyXY[:-1]\n",
    "  firstVectyConfidence = posList1[3::4]\n",
    "  firstVectyConfidenceSum = sum(firstVectyConfidence)\n",
    "  # Part1\n",
    "  part1 = 1 / firstVectyConfidenceSum\n",
    "\n",
    "  # Part2\n",
    "  part2 = 0\n",
    "\n",
    "  for i in range(len(firstVectyXY)):\n",
    "    tempConf = math.floor(i/2)\n",
    "    tempSum = firstVectyConfidence[tempConf] * abs(firstVectyXY[i] - secondVectyXY[i])\n",
    "    part2 = part2 + tempSum\n",
    "\n",
    "  return part1 * part2"
   ]
  },
  {
   "cell_type": "code",
   "execution_count": 6,
   "metadata": {},
   "outputs": [],
   "source": [
    "landmarkz2 = ['x1',\n",
    " 'y1',\n",
    " 'z1',\n",
    " 'v1',\n",
    " 'x2',\n",
    " 'y2',\n",
    " 'z2',\n",
    " 'v2',\n",
    " 'x3',\n",
    " 'y3',\n",
    " 'z3',\n",
    " 'v3',\n",
    " 'x4',\n",
    " 'y4',\n",
    " 'z4',\n",
    " 'v4',\n",
    " 'x5',\n",
    " 'y5',\n",
    " 'z5',\n",
    " 'v5',\n",
    " 'x6',\n",
    " 'y6',\n",
    " 'z6',\n",
    " 'v6',\n",
    " 'x7',\n",
    " 'y7',\n",
    " 'z7',\n",
    " 'v7',\n",
    " 'x8',\n",
    " 'y8',\n",
    " 'z8',\n",
    " 'v8',\n",
    " 'x9',\n",
    " 'y9',\n",
    " 'z9',\n",
    " 'v9',\n",
    " 'x10',\n",
    " 'y10',\n",
    " 'z10',\n",
    " 'v10',\n",
    " 'x11',\n",
    " 'y11',\n",
    " 'z11',\n",
    " 'v11',\n",
    " 'x12',\n",
    " 'y12',\n",
    " 'z12',\n",
    " 'v12',\n",
    " 'x13',\n",
    " 'y13',\n",
    " 'z13',\n",
    " 'v13',\n",
    " 'x14',\n",
    " 'y14',\n",
    " 'z14',\n",
    " 'v14',\n",
    " 'x15',\n",
    " 'y15',\n",
    " 'z15',\n",
    " 'v15',\n",
    " 'x16',\n",
    " 'y16',\n",
    " 'z16',\n",
    " 'v16',\n",
    " 'x17',\n",
    " 'y17',\n",
    " 'z17',\n",
    " 'v17',\n",
    " 'x18',\n",
    " 'y18',\n",
    " 'z18',\n",
    " 'v18',\n",
    " 'x19',\n",
    " 'y19',\n",
    " 'z19',\n",
    " 'v19',\n",
    " 'x20',\n",
    " 'y20',\n",
    " 'z20',\n",
    " 'v20',\n",
    " 'x21',\n",
    " 'y21',\n",
    " 'z21',\n",
    " 'v21',\n",
    " 'x22',\n",
    " 'y22',\n",
    " 'z22',\n",
    " 'v22',\n",
    " 'x23',\n",
    " 'y23',\n",
    " 'z23',\n",
    " 'v23',\n",
    " 'x24',\n",
    " 'y24',\n",
    " 'z24',\n",
    " 'v24',\n",
    " 'x25',\n",
    " 'y25',\n",
    " 'z25',\n",
    " 'v25',\n",
    " 'x26',\n",
    " 'y26',\n",
    " 'z26',\n",
    " 'v26',\n",
    " 'x27',\n",
    " 'y27',\n",
    " 'z27',\n",
    " 'v27',\n",
    " 'x28',\n",
    " 'y28',\n",
    " 'z28',\n",
    " 'v28',\n",
    " 'x29',\n",
    " 'y29',\n",
    " 'z29',\n",
    " 'v29',\n",
    " 'x30',\n",
    " 'y30',\n",
    " 'z30',\n",
    " 'v30',\n",
    " 'x31',\n",
    " 'y31',\n",
    " 'z31',\n",
    " 'v31',\n",
    " 'x32',\n",
    " 'y32',\n",
    " 'z32',\n",
    " 'v32',\n",
    " 'x33',\n",
    " 'y33',\n",
    " 'z33',\n",
    " 'v33',\n",
    " 'a11',\n",
    " 'a12',\n",
    " 'a13',\n",
    " 'a14',\n",
    " 'a16',\n",
    " 'a17',\n",
    " 'a23',\n",
    " 'a24',\n",
    " 'a25',\n",
    " 'a26',\n",
    " 'a27',\n",
    " 'a28',\n",
    " 'path',]"
   ]
  },
  {
   "cell_type": "code",
   "execution_count": 7,
   "metadata": {},
   "outputs": [],
   "source": [
    "cap = cv2.VideoCapture('n_vid2.mp4')\n",
    "final_list = []\n",
    "## Setup mediapipe instance\n",
    "with mp_pose.Pose(min_detection_confidence=0.9, min_tracking_confidence=0.9) as pose:\n",
    "    while cap.isOpened():\n",
    "        ret, frame = cap.read()\n",
    "        # re_frame = cv2.resize(frame, (608, 1080))\n",
    "        if ret == True:\n",
    "            # Recolor image to RGB\n",
    "            image = cv2.cvtColor(frame, cv2.COLOR_BGR2RGB)\n",
    "            image.flags.writeable = False\n",
    "        \n",
    "            # Make detection\n",
    "            results = pose.process(image)\n",
    "        \n",
    "            # Recolor back to BGR\n",
    "            image.flags.writeable = True\n",
    "            image = cv2.cvtColor(image, cv2.COLOR_RGB2BGR)\n",
    "            \n",
    "            # Extract landmarks\n",
    "            try:\n",
    "                #The Marks\n",
    "                landmarks = results.pose_landmarks.landmark\n",
    "                \n",
    "                if len(landmarks) != 33:\n",
    "                    pass\n",
    "\n",
    "                l_wrist = [landmarks[mp_pose.PoseLandmark.LEFT_WRIST.value].x,landmarks[mp_pose.PoseLandmark.LEFT_WRIST.value].y]\n",
    "                l_elbow = [landmarks[mp_pose.PoseLandmark.LEFT_ELBOW.value].x,landmarks[mp_pose.PoseLandmark.LEFT_ELBOW.value].y]\n",
    "                l_shoulder = [landmarks[mp_pose.PoseLandmark.LEFT_SHOULDER.value].x,landmarks[mp_pose.PoseLandmark.LEFT_SHOULDER.value].y]\n",
    "                l_hip = [landmarks[mp_pose.PoseLandmark.LEFT_HIP.value].x,landmarks[mp_pose.PoseLandmark.LEFT_HIP.value].y]\n",
    "                l_knee = [landmarks[mp_pose.PoseLandmark.LEFT_KNEE.value].x,landmarks[mp_pose.PoseLandmark.LEFT_KNEE.value].y]\n",
    "                l_ankle = [landmarks[mp_pose.PoseLandmark.LEFT_ANKLE.value].x,landmarks[mp_pose.PoseLandmark.LEFT_ANKLE.value].y]\n",
    "                l_heel = [landmarks[mp_pose.PoseLandmark.LEFT_HEEL.value].x,landmarks[mp_pose.PoseLandmark.LEFT_HEEL.value].y]\n",
    "                \n",
    "                r_wrist = [landmarks[mp_pose.PoseLandmark.RIGHT_WRIST.value].x,landmarks[mp_pose.PoseLandmark.RIGHT_WRIST.value].y]\n",
    "                r_elbow = [landmarks[mp_pose.PoseLandmark.RIGHT_ELBOW.value].x,landmarks[mp_pose.PoseLandmark.RIGHT_ELBOW.value].y]\n",
    "                r_shoulder = [landmarks[mp_pose.PoseLandmark.RIGHT_SHOULDER.value].x,landmarks[mp_pose.PoseLandmark.RIGHT_SHOULDER.value].y]\n",
    "                r_hip = [landmarks[mp_pose.PoseLandmark.RIGHT_HIP.value].x,landmarks[mp_pose.PoseLandmark.RIGHT_HIP.value].y]\n",
    "                r_knee = [landmarks[mp_pose.PoseLandmark.RIGHT_KNEE.value].x,landmarks[mp_pose.PoseLandmark.RIGHT_KNEE.value].y]\n",
    "                r_ankle = [landmarks[mp_pose.PoseLandmark.RIGHT_ANKLE.value].x,landmarks[mp_pose.PoseLandmark.RIGHT_ANKLE.value].y]\n",
    "                r_heel = [landmarks[mp_pose.PoseLandmark.RIGHT_HEEL.value].x,landmarks[mp_pose.PoseLandmark.RIGHT_HEEL.value].y]\n",
    "\n",
    "\n",
    "                #Angle Calculate\n",
    "                # a11 = calculate_angle(l_elbow,l_shoulder,l_hip)\n",
    "                # a12 = calculate_angle(r_elbow,r_shoulder,r_hip)\n",
    "                # a13 = calculate_angle(l_shoulder,l_elbow, l_wrist)\n",
    "                # a14 = calculate_angle(r_shoulder,r_elbow, r_wrist)\n",
    "                # a23 = calculate_angle(l_shoulder,l_hip,l_knee)\n",
    "                # a24 = calculate_angle(r_shoulder,r_hip,r_knee)\n",
    "                # a25 = calculate_angle(l_hip,l_knee,l_ankle)\n",
    "                # a26 = calculate_angle(r_hip,r_knee,r_ankle)\n",
    "                # a27 = calculate_angle(l_knee,l_ankle,l_heel)\n",
    "                # a28 = calculate_angle(r_knee,r_ankle,r_heel)\n",
    "\n",
    "\n",
    "\n",
    "                # found = df.loc[np.isclose(df['a11'],a11,1e-09,0.06) | np.isclose(df['a12'],a12,1e-09,0.06) | np.isclose(df['a13'],a13,1e-09,0.06) | np.isclose(df['a14'],a14,1e-09,0.06) | np.isclose(df['a23'],a23,1e-09,0.06) | np.isclose(df['a24'],a24,1e-09,0.06) | np.isclose(df['a25'],a25,1e-09,0.06) | np.isclose(df['a26'],a26,1e-09,0.06) | np.isclose(df['a27'],a27,1e-09,0.06) | np.isclose(df['a28'],a28,1e-09,0.06)]\n",
    "\n",
    "                # if found.empty:\n",
    "                #     continue\n",
    "                # else:\n",
    "                #     # break\n",
    "                #     final_list.append(list(x for x in found[\"path\"]))\n",
    "                #     # final_list.append(df[\"path\"].values.tolist())\n",
    "                #     print(found[\"path\"])\n",
    "                firstVecty = np.array([[res.x, res.y, res.z, res.visibility] for res in results.pose_landmarks.landmark]).flatten().tolist()\n",
    "                for i in range(len(df)):\n",
    "                    secondVecty = df.iloc[i].values.flatten().tolist()\n",
    "                    theMatch = letsMatchIt(firstVecty,secondVecty)\n",
    "                    if(theMatch < 0.06):\n",
    "                        final_list.append(secondVecty[-1])\n",
    "                        break\n",
    "\n",
    "            except:\n",
    "                pass\n",
    "\n",
    "\n",
    "            if cv2.waitKey(10) & 0xFF == ord('q'):\n",
    "                break\n",
    "        else:\n",
    "            break\n",
    "\n",
    "    cap.release()\n",
    "    cv2.destroyAllWindows()"
   ]
  },
  {
   "attachments": {},
   "cell_type": "markdown",
   "metadata": {},
   "source": [
    "Create Video From Found List"
   ]
  },
  {
   "cell_type": "code",
   "execution_count": 3,
   "metadata": {},
   "outputs": [],
   "source": [
    "final_list = ['C:/Users/dedsec995/shakeit/data/image13.jpg', 'C:/Users/dedsec995/shakeit/data/image9.jpg', 'C:/Users/dedsec995/shakeit/data/image12.jpg', 'C:/Users/dedsec995/shakeit/data/image13.jpg', 'C:/Users/dedsec995/shakeit/data/image9.jpg', 'C:/Users/dedsec995/shakeit/data/image9.jpg', 'C:/Users/dedsec995/shakeit/data/image9.jpg', 'C:/Users/dedsec995/shakeit/data/image9.jpg', 'C:/Users/dedsec995/shakeit/data/image9.jpg', 'C:/Users/dedsec995/shakeit/data/image11.jpg', 'C:/Users/dedsec995/shakeit/data/image12.jpg', 'C:/Users/dedsec995/shakeit/data/image12.jpg', 'C:/Users/dedsec995/shakeit/data/image9.jpg', 'C:/Users/dedsec995/shakeit/data/image9.jpg', 'C:/Users/dedsec995/shakeit/data/image9.jpg', 'C:/Users/dedsec995/shakeit/data/image9.jpg', 'C:/Users/dedsec995/shakeit/data/image9.jpg', 'C:/Users/dedsec995/shakeit/data/image9.jpg', 'C:/Users/dedsec995/shakeit/data/image9.jpg', 'C:/Users/dedsec995/shakeit/data/image9.jpg', 'C:/Users/dedsec995/shakeit/data/image9.jpg', 'C:/Users/dedsec995/shakeit/data/image9.jpg', 'C:/Users/dedsec995/shakeit/data/image9.jpg', 'C:/Users/dedsec995/shakeit/data/image9.jpg', 'C:/Users/dedsec995/shakeit/data/image9.jpg', 'C:/Users/dedsec995/shakeit/data/image9.jpg', 'C:/Users/dedsec995/shakeit/data/image9.jpg', 'C:/Users/dedsec995/shakeit/data/image9.jpg', 'C:/Users/dedsec995/shakeit/data/image13.jpg', 'C:/Users/dedsec995/shakeit/data/image29.jpg', 'C:/Users/dedsec995/shakeit/data/image13.jpg', 'C:/Users/dedsec995/shakeit/data/image9.jpg', 'C:/Users/dedsec995/shakeit/data/image9.jpg', 'C:/Users/dedsec995/shakeit/data/image12.jpg', 'C:/Users/dedsec995/shakeit/data/image12.jpg', 'C:/Users/dedsec995/shakeit/data/image9.jpg', 'C:/Users/dedsec995/shakeit/data/image9.jpg', 'C:/Users/dedsec995/shakeit/data/image9.jpg', 'C:/Users/dedsec995/shakeit/data/image40.jpg', 'C:/Users/dedsec995/shakeit/data/image40.jpg', 'C:/Users/dedsec995/shakeit/data/image13.jpg', 'C:/Users/dedsec995/shakeit/data/image13.jpg', 'C:/Users/dedsec995/shakeit/data/image9.jpg', 'C:/Users/dedsec995/shakeit/data/image9.jpg', 'C:/Users/dedsec995/shakeit/data/image9.jpg', 'C:/Users/dedsec995/shakeit/data/image10.jpg', 'C:/Users/dedsec995/shakeit/data/image10.jpg', 'C:/Users/dedsec995/shakeit/data/image8.jpg', 'C:/Users/dedsec995/shakeit/data/image4.jpg', 'C:/Users/dedsec995/shakeit/data/image2.jpg', 'C:/Users/dedsec995/shakeit/data/image2.jpg', 'C:/Users/dedsec995/shakeit/data/image1.jpg', 'C:/Users/dedsec995/shakeit/data/image1.jpg', 'C:/Users/dedsec995/shakeit/data/image1.jpg', 'C:/Users/dedsec995/shakeit/data/image1.jpg', 'C:/Users/dedsec995/shakeit/data/image1.jpg', 'C:/Users/dedsec995/shakeit/data/image1.jpg', 'C:/Users/dedsec995/shakeit/data/image1.jpg', 'C:/Users/dedsec995/shakeit/data/image1.jpg', 'C:/Users/dedsec995/shakeit/data/image1.jpg', 'C:/Users/dedsec995/shakeit/data/image1.jpg', 'C:/Users/dedsec995/shakeit/data/image1.jpg', 'C:/Users/dedsec995/shakeit/data/image1.jpg', 'C:/Users/dedsec995/shakeit/data/image1.jpg', 'C:/Users/dedsec995/shakeit/data/image1.jpg', 'C:/Users/dedsec995/shakeit/data/image1.jpg', 'C:/Users/dedsec995/shakeit/data/image1.jpg', 'C:/Users/dedsec995/shakeit/data/image1.jpg', 'C:/Users/dedsec995/shakeit/data/image1.jpg', 'C:/Users/dedsec995/shakeit/data/image1.jpg', 'C:/Users/dedsec995/shakeit/data/image1.jpg', 'C:/Users/dedsec995/shakeit/data/image1.jpg', 'C:/Users/dedsec995/shakeit/data/image1.jpg', 'C:/Users/dedsec995/shakeit/data/image1.jpg', 'C:/Users/dedsec995/shakeit/data/image1.jpg', 'C:/Users/dedsec995/shakeit/data/image1.jpg', 'C:/Users/dedsec995/shakeit/data/image9.jpg', 'C:/Users/dedsec995/shakeit/data/image13.jpg', 'C:/Users/dedsec995/shakeit/data/image13.jpg', 'C:/Users/dedsec995/shakeit/data/image30.jpg', 'C:/Users/dedsec995/shakeit/data/image30.jpg', 'C:/Users/dedsec995/shakeit/data/image30.jpg', 'C:/Users/dedsec995/shakeit/data/image20.jpg', 'C:/Users/dedsec995/shakeit/data/image20.jpg', 'C:/Users/dedsec995/shakeit/data/image20.jpg', 'C:/Users/dedsec995/shakeit/data/image20.jpg', 'C:/Users/dedsec995/shakeit/data/image20.jpg', 'C:/Users/dedsec995/shakeit/data/image20.jpg', 'C:/Users/dedsec995/shakeit/data/image21.jpg', 'C:/Users/dedsec995/shakeit/data/image21.jpg', 'C:/Users/dedsec995/shakeit/data/image19.jpg', 'C:/Users/dedsec995/shakeit/data/image1.jpg', 'C:/Users/dedsec995/shakeit/data/image1.jpg', 'C:/Users/dedsec995/shakeit/data/image1.jpg', 'C:/Users/dedsec995/shakeit/data/image1.jpg', 'C:/Users/dedsec995/shakeit/data/image1.jpg', 'C:/Users/dedsec995/shakeit/data/image1.jpg', 'C:/Users/dedsec995/shakeit/data/image1.jpg', 'C:/Users/dedsec995/shakeit/data/image1.jpg', 'C:/Users/dedsec995/shakeit/data/image1.jpg', 'C:/Users/dedsec995/shakeit/data/image1.jpg', 'C:/Users/dedsec995/shakeit/data/image1.jpg', 'C:/Users/dedsec995/shakeit/data/image1.jpg', 'C:/Users/dedsec995/shakeit/data/image1.jpg', 'C:/Users/dedsec995/shakeit/data/image1.jpg', 'C:/Users/dedsec995/shakeit/data/image1.jpg', 'C:/Users/dedsec995/shakeit/data/image1.jpg', 'C:/Users/dedsec995/shakeit/data/image1.jpg', 'C:/Users/dedsec995/shakeit/data/image1.jpg', 'C:/Users/dedsec995/shakeit/data/image1.jpg', 'C:/Users/dedsec995/shakeit/data/image1.jpg', 'C:/Users/dedsec995/shakeit/data/image1.jpg', 'C:/Users/dedsec995/shakeit/data/image1.jpg', 'C:/Users/dedsec995/shakeit/data/image1.jpg', 'C:/Users/dedsec995/shakeit/data/image1.jpg', 'C:/Users/dedsec995/shakeit/data/image1.jpg', 'C:/Users/dedsec995/shakeit/data/image8.jpg', 'C:/Users/dedsec995/shakeit/data/image41.jpg', 'C:/Users/dedsec995/shakeit/data/image13.jpg', 'C:/Users/dedsec995/shakeit/data/image13.jpg', 'C:/Users/dedsec995/shakeit/data/image13.jpg', 'C:/Users/dedsec995/shakeit/data/image13.jpg', 'C:/Users/dedsec995/shakeit/data/image13.jpg', 'C:/Users/dedsec995/shakeit/data/image13.jpg', 'C:/Users/dedsec995/shakeit/data/image11.jpg', 'C:/Users/dedsec995/shakeit/data/image9.jpg', 'C:/Users/dedsec995/shakeit/data/image9.jpg', 'C:/Users/dedsec995/shakeit/data/image9.jpg', 'C:/Users/dedsec995/shakeit/data/image9.jpg', 'C:/Users/dedsec995/shakeit/data/image9.jpg', 'C:/Users/dedsec995/shakeit/data/image9.jpg', 'C:/Users/dedsec995/shakeit/data/image9.jpg', 'C:/Users/dedsec995/shakeit/data/image9.jpg', 'C:/Users/dedsec995/shakeit/data/image9.jpg', 'C:/Users/dedsec995/shakeit/data/image9.jpg', 'C:/Users/dedsec995/shakeit/data/image9.jpg', 'C:/Users/dedsec995/shakeit/data/image9.jpg', 'C:/Users/dedsec995/shakeit/data/image9.jpg', 'C:/Users/dedsec995/shakeit/data/image9.jpg', 'C:/Users/dedsec995/shakeit/data/image9.jpg', 'C:/Users/dedsec995/shakeit/data/image9.jpg', 'C:/Users/dedsec995/shakeit/data/image9.jpg', 'C:/Users/dedsec995/shakeit/data/image9.jpg', 'C:/Users/dedsec995/shakeit/data/image9.jpg', 'C:/Users/dedsec995/shakeit/data/image9.jpg', 'C:/Users/dedsec995/shakeit/data/image9.jpg', 'C:/Users/dedsec995/shakeit/data/image9.jpg', 'C:/Users/dedsec995/shakeit/data/image9.jpg', 'C:/Users/dedsec995/shakeit/data/image9.jpg', 'C:/Users/dedsec995/shakeit/data/image9.jpg', 'C:/Users/dedsec995/shakeit/data/image9.jpg']\n",
    "video_name = 'video.mp4'\n",
    "images = [img for img in final_list]\n",
    "# print(images)\n",
    "# print(type(images))\n",
    "# print(images[0])\n",
    "# print(type(images[0][0]))\n",
    "frame = cv2.imread(images[0])\n",
    "height, width, layers = frame.shape\n",
    "video = cv2.VideoWriter(video_name, 0, 14, (width,height))\n",
    "for image in images:\n",
    "    # cv2.imshow(image[0])\n",
    "    video.write(cv2.imread(image))\n",
    "\n",
    "cv2.destroyAllWindows()\n",
    "video.release()"
   ]
  },
  {
   "attachments": {},
   "cell_type": "markdown",
   "metadata": {},
   "source": [
    "Create Video from Folder"
   ]
  },
  {
   "cell_type": "code",
   "execution_count": 21,
   "metadata": {},
   "outputs": [],
   "source": [
    "image_folder = 'data'\n",
    "video_name = 'video.avi'\n",
    "\n",
    "images = [img for img in os.listdir(image_folder) if img.endswith(\".jpg\")]\n",
    "frame = cv2.imread(os.path.join(image_folder, images[0]))\n",
    "height, width, layers = frame.shape\n",
    "\n",
    "video = cv2.VideoWriter(video_name, 0, 14, (width,height))\n",
    "\n",
    "for image in images:\n",
    "    video.write(cv2.imread(os.path.join(image_folder, image)))\n",
    "\n",
    "cv2.destroyAllWindows()\n",
    "video.release()"
   ]
  },
  {
   "cell_type": "code",
   "execution_count": 56,
   "metadata": {},
   "outputs": [
    {
     "data": {
      "text/plain": [
       "15    C:\\Users\\dedsec995\\shakeit\\data\\image16.jpg\n",
       "Name: path, dtype: object"
      ]
     },
     "metadata": {},
     "output_type": "display_data"
    },
    {
     "name": "stdout",
     "output_type": "stream",
     "text": [
      "[['C:\\\\Users\\\\dedsec995\\\\shakeit\\\\data\\\\image16.jpg']]\n"
     ]
    }
   ],
   "source": [
    "display(found['path'])\n",
    "values = list(x for x in found[\"path\"])\n",
    "print(values)"
   ]
  },
  {
   "cell_type": "code",
   "execution_count": 9,
   "metadata": {},
   "outputs": [
    {
     "name": "stdout",
     "output_type": "stream",
     "text": [
      "['C:/Users/dedsec995/shakeit/data/image13.jpg', 'C:/Users/dedsec995/shakeit/data/image9.jpg', 'C:/Users/dedsec995/shakeit/data/image12.jpg', 'C:/Users/dedsec995/shakeit/data/image13.jpg', 'C:/Users/dedsec995/shakeit/data/image9.jpg', 'C:/Users/dedsec995/shakeit/data/image9.jpg', 'C:/Users/dedsec995/shakeit/data/image9.jpg', 'C:/Users/dedsec995/shakeit/data/image9.jpg', 'C:/Users/dedsec995/shakeit/data/image9.jpg', 'C:/Users/dedsec995/shakeit/data/image11.jpg', 'C:/Users/dedsec995/shakeit/data/image12.jpg', 'C:/Users/dedsec995/shakeit/data/image12.jpg', 'C:/Users/dedsec995/shakeit/data/image9.jpg', 'C:/Users/dedsec995/shakeit/data/image9.jpg', 'C:/Users/dedsec995/shakeit/data/image9.jpg', 'C:/Users/dedsec995/shakeit/data/image9.jpg', 'C:/Users/dedsec995/shakeit/data/image9.jpg', 'C:/Users/dedsec995/shakeit/data/image9.jpg', 'C:/Users/dedsec995/shakeit/data/image9.jpg', 'C:/Users/dedsec995/shakeit/data/image9.jpg', 'C:/Users/dedsec995/shakeit/data/image9.jpg', 'C:/Users/dedsec995/shakeit/data/image9.jpg', 'C:/Users/dedsec995/shakeit/data/image9.jpg', 'C:/Users/dedsec995/shakeit/data/image9.jpg', 'C:/Users/dedsec995/shakeit/data/image9.jpg', 'C:/Users/dedsec995/shakeit/data/image9.jpg', 'C:/Users/dedsec995/shakeit/data/image9.jpg', 'C:/Users/dedsec995/shakeit/data/image9.jpg', 'C:/Users/dedsec995/shakeit/data/image13.jpg', 'C:/Users/dedsec995/shakeit/data/image29.jpg', 'C:/Users/dedsec995/shakeit/data/image13.jpg', 'C:/Users/dedsec995/shakeit/data/image9.jpg', 'C:/Users/dedsec995/shakeit/data/image9.jpg', 'C:/Users/dedsec995/shakeit/data/image12.jpg', 'C:/Users/dedsec995/shakeit/data/image12.jpg', 'C:/Users/dedsec995/shakeit/data/image9.jpg', 'C:/Users/dedsec995/shakeit/data/image9.jpg', 'C:/Users/dedsec995/shakeit/data/image9.jpg', 'C:/Users/dedsec995/shakeit/data/image40.jpg', 'C:/Users/dedsec995/shakeit/data/image40.jpg', 'C:/Users/dedsec995/shakeit/data/image13.jpg', 'C:/Users/dedsec995/shakeit/data/image13.jpg', 'C:/Users/dedsec995/shakeit/data/image9.jpg', 'C:/Users/dedsec995/shakeit/data/image9.jpg', 'C:/Users/dedsec995/shakeit/data/image9.jpg', 'C:/Users/dedsec995/shakeit/data/image10.jpg', 'C:/Users/dedsec995/shakeit/data/image10.jpg', 'C:/Users/dedsec995/shakeit/data/image8.jpg', 'C:/Users/dedsec995/shakeit/data/image4.jpg', 'C:/Users/dedsec995/shakeit/data/image2.jpg', 'C:/Users/dedsec995/shakeit/data/image2.jpg', 'C:/Users/dedsec995/shakeit/data/image1.jpg', 'C:/Users/dedsec995/shakeit/data/image1.jpg', 'C:/Users/dedsec995/shakeit/data/image1.jpg', 'C:/Users/dedsec995/shakeit/data/image1.jpg', 'C:/Users/dedsec995/shakeit/data/image1.jpg', 'C:/Users/dedsec995/shakeit/data/image1.jpg', 'C:/Users/dedsec995/shakeit/data/image1.jpg', 'C:/Users/dedsec995/shakeit/data/image1.jpg', 'C:/Users/dedsec995/shakeit/data/image1.jpg', 'C:/Users/dedsec995/shakeit/data/image1.jpg', 'C:/Users/dedsec995/shakeit/data/image1.jpg', 'C:/Users/dedsec995/shakeit/data/image1.jpg', 'C:/Users/dedsec995/shakeit/data/image1.jpg', 'C:/Users/dedsec995/shakeit/data/image1.jpg', 'C:/Users/dedsec995/shakeit/data/image1.jpg', 'C:/Users/dedsec995/shakeit/data/image1.jpg', 'C:/Users/dedsec995/shakeit/data/image1.jpg', 'C:/Users/dedsec995/shakeit/data/image1.jpg', 'C:/Users/dedsec995/shakeit/data/image1.jpg', 'C:/Users/dedsec995/shakeit/data/image1.jpg', 'C:/Users/dedsec995/shakeit/data/image1.jpg', 'C:/Users/dedsec995/shakeit/data/image1.jpg', 'C:/Users/dedsec995/shakeit/data/image1.jpg', 'C:/Users/dedsec995/shakeit/data/image1.jpg', 'C:/Users/dedsec995/shakeit/data/image1.jpg', 'C:/Users/dedsec995/shakeit/data/image9.jpg', 'C:/Users/dedsec995/shakeit/data/image13.jpg', 'C:/Users/dedsec995/shakeit/data/image13.jpg', 'C:/Users/dedsec995/shakeit/data/image30.jpg', 'C:/Users/dedsec995/shakeit/data/image30.jpg', 'C:/Users/dedsec995/shakeit/data/image30.jpg', 'C:/Users/dedsec995/shakeit/data/image20.jpg', 'C:/Users/dedsec995/shakeit/data/image20.jpg', 'C:/Users/dedsec995/shakeit/data/image20.jpg', 'C:/Users/dedsec995/shakeit/data/image20.jpg', 'C:/Users/dedsec995/shakeit/data/image20.jpg', 'C:/Users/dedsec995/shakeit/data/image20.jpg', 'C:/Users/dedsec995/shakeit/data/image21.jpg', 'C:/Users/dedsec995/shakeit/data/image21.jpg', 'C:/Users/dedsec995/shakeit/data/image19.jpg', 'C:/Users/dedsec995/shakeit/data/image1.jpg', 'C:/Users/dedsec995/shakeit/data/image1.jpg', 'C:/Users/dedsec995/shakeit/data/image1.jpg', 'C:/Users/dedsec995/shakeit/data/image1.jpg', 'C:/Users/dedsec995/shakeit/data/image1.jpg', 'C:/Users/dedsec995/shakeit/data/image1.jpg', 'C:/Users/dedsec995/shakeit/data/image1.jpg', 'C:/Users/dedsec995/shakeit/data/image1.jpg', 'C:/Users/dedsec995/shakeit/data/image1.jpg', 'C:/Users/dedsec995/shakeit/data/image1.jpg', 'C:/Users/dedsec995/shakeit/data/image1.jpg', 'C:/Users/dedsec995/shakeit/data/image1.jpg', 'C:/Users/dedsec995/shakeit/data/image1.jpg', 'C:/Users/dedsec995/shakeit/data/image1.jpg', 'C:/Users/dedsec995/shakeit/data/image1.jpg', 'C:/Users/dedsec995/shakeit/data/image1.jpg', 'C:/Users/dedsec995/shakeit/data/image1.jpg', 'C:/Users/dedsec995/shakeit/data/image1.jpg', 'C:/Users/dedsec995/shakeit/data/image1.jpg', 'C:/Users/dedsec995/shakeit/data/image1.jpg', 'C:/Users/dedsec995/shakeit/data/image1.jpg', 'C:/Users/dedsec995/shakeit/data/image1.jpg', 'C:/Users/dedsec995/shakeit/data/image1.jpg', 'C:/Users/dedsec995/shakeit/data/image1.jpg', 'C:/Users/dedsec995/shakeit/data/image1.jpg', 'C:/Users/dedsec995/shakeit/data/image8.jpg', 'C:/Users/dedsec995/shakeit/data/image41.jpg', 'C:/Users/dedsec995/shakeit/data/image13.jpg', 'C:/Users/dedsec995/shakeit/data/image13.jpg', 'C:/Users/dedsec995/shakeit/data/image13.jpg', 'C:/Users/dedsec995/shakeit/data/image13.jpg', 'C:/Users/dedsec995/shakeit/data/image13.jpg', 'C:/Users/dedsec995/shakeit/data/image13.jpg', 'C:/Users/dedsec995/shakeit/data/image11.jpg', 'C:/Users/dedsec995/shakeit/data/image9.jpg', 'C:/Users/dedsec995/shakeit/data/image9.jpg', 'C:/Users/dedsec995/shakeit/data/image9.jpg', 'C:/Users/dedsec995/shakeit/data/image9.jpg', 'C:/Users/dedsec995/shakeit/data/image9.jpg', 'C:/Users/dedsec995/shakeit/data/image9.jpg', 'C:/Users/dedsec995/shakeit/data/image9.jpg', 'C:/Users/dedsec995/shakeit/data/image9.jpg', 'C:/Users/dedsec995/shakeit/data/image9.jpg', 'C:/Users/dedsec995/shakeit/data/image9.jpg', 'C:/Users/dedsec995/shakeit/data/image9.jpg', 'C:/Users/dedsec995/shakeit/data/image9.jpg', 'C:/Users/dedsec995/shakeit/data/image9.jpg', 'C:/Users/dedsec995/shakeit/data/image9.jpg', 'C:/Users/dedsec995/shakeit/data/image9.jpg', 'C:/Users/dedsec995/shakeit/data/image9.jpg', 'C:/Users/dedsec995/shakeit/data/image9.jpg', 'C:/Users/dedsec995/shakeit/data/image9.jpg', 'C:/Users/dedsec995/shakeit/data/image9.jpg', 'C:/Users/dedsec995/shakeit/data/image9.jpg', 'C:/Users/dedsec995/shakeit/data/image9.jpg', 'C:/Users/dedsec995/shakeit/data/image9.jpg', 'C:/Users/dedsec995/shakeit/data/image9.jpg', 'C:/Users/dedsec995/shakeit/data/image9.jpg', 'C:/Users/dedsec995/shakeit/data/image9.jpg', 'C:/Users/dedsec995/shakeit/data/image9.jpg']\n"
     ]
    }
   ],
   "source": [
    "print(final_list)"
   ]
  },
  {
   "cell_type": "code",
   "execution_count": null,
   "metadata": {},
   "outputs": [],
   "source": []
  }
 ],
 "metadata": {
  "kernelspec": {
   "display_name": "env",
   "language": "python",
   "name": "python3"
  },
  "language_info": {
   "codemirror_mode": {
    "name": "ipython",
    "version": 3
   },
   "file_extension": ".py",
   "mimetype": "text/x-python",
   "name": "python",
   "nbconvert_exporter": "python",
   "pygments_lexer": "ipython3",
   "version": "3.8.9"
  },
  "orig_nbformat": 4,
  "vscode": {
   "interpreter": {
    "hash": "7781b7c81ed8d58a47531ac6c390c67b57d7aa27bfd2fbc3c09bb819171cc821"
   }
  }
 },
 "nbformat": 4,
 "nbformat_minor": 2
}
